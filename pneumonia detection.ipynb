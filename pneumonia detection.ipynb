{
 "cells": [
  {
   "cell_type": "markdown",
   "id": "452bcf3c",
   "metadata": {},
   "source": [
    "# Pneumonia Detection"
   ]
  },
  {
   "cell_type": "markdown",
   "id": "f135bca7",
   "metadata": {},
   "source": [
    "I am segregating the images in my PNEUMONIA folder into two seperate folders one for Bacterial Pneumonia and one for Viral Pneumonia. Will do it in all folders (test, train and val)"
   ]
  },
  {
   "cell_type": "code",
   "execution_count": 1,
   "id": "9ec9fad7",
   "metadata": {},
   "outputs": [
    {
     "ename": "Error",
     "evalue": "Destination path 'C:\\Users\\Divyam\\Desktop\\Pneumonia Detection\\chest_xray\\train\\BACTERIAL PNEUMONIA\\person1000_bacteria_2931.jpeg' already exists",
     "output_type": "error",
     "traceback": [
      "\u001b[1;31m---------------------------------------------------------------------------\u001b[0m",
      "\u001b[1;31mError\u001b[0m                                     Traceback (most recent call last)",
      "\u001b[1;32m~\\AppData\\Local\\Temp\\ipykernel_32432\\970215332.py\u001b[0m in \u001b[0;36m<module>\u001b[1;34m\u001b[0m\n\u001b[0;32m     18\u001b[0m     \u001b[1;32mif\u001b[0m \u001b[1;34m\"bacteria\"\u001b[0m \u001b[1;32min\u001b[0m \u001b[0mfilename\u001b[0m\u001b[1;33m.\u001b[0m\u001b[0mlower\u001b[0m\u001b[1;33m(\u001b[0m\u001b[1;33m)\u001b[0m\u001b[1;33m:\u001b[0m\u001b[1;33m\u001b[0m\u001b[1;33m\u001b[0m\u001b[0m\n\u001b[0;32m     19\u001b[0m         \u001b[1;31m# move the file to the bacteria folder\u001b[0m\u001b[1;33m\u001b[0m\u001b[1;33m\u001b[0m\u001b[0m\n\u001b[1;32m---> 20\u001b[1;33m         \u001b[0mshutil\u001b[0m\u001b[1;33m.\u001b[0m\u001b[0mmove\u001b[0m\u001b[1;33m(\u001b[0m\u001b[0mos\u001b[0m\u001b[1;33m.\u001b[0m\u001b[0mpath\u001b[0m\u001b[1;33m.\u001b[0m\u001b[0mjoin\u001b[0m\u001b[1;33m(\u001b[0m\u001b[0minput_folder\u001b[0m\u001b[1;33m,\u001b[0m \u001b[0mfilename\u001b[0m\u001b[1;33m)\u001b[0m\u001b[1;33m,\u001b[0m \u001b[0mbacteria_folder\u001b[0m\u001b[1;33m)\u001b[0m\u001b[1;33m\u001b[0m\u001b[1;33m\u001b[0m\u001b[0m\n\u001b[0m\u001b[0;32m     21\u001b[0m     \u001b[1;32melif\u001b[0m \u001b[1;34m\"virus\"\u001b[0m \u001b[1;32min\u001b[0m \u001b[0mfilename\u001b[0m\u001b[1;33m.\u001b[0m\u001b[0mlower\u001b[0m\u001b[1;33m(\u001b[0m\u001b[1;33m)\u001b[0m\u001b[1;33m:\u001b[0m\u001b[1;33m\u001b[0m\u001b[1;33m\u001b[0m\u001b[0m\n\u001b[0;32m     22\u001b[0m         \u001b[1;31m# move the file to the virus folder\u001b[0m\u001b[1;33m\u001b[0m\u001b[1;33m\u001b[0m\u001b[0m\n",
      "\u001b[1;32m~\\anaconda3\\lib\\shutil.py\u001b[0m in \u001b[0;36mmove\u001b[1;34m(src, dst, copy_function)\u001b[0m\n\u001b[0;32m    821\u001b[0m \u001b[1;33m\u001b[0m\u001b[0m\n\u001b[0;32m    822\u001b[0m         \u001b[1;32mif\u001b[0m \u001b[0mos\u001b[0m\u001b[1;33m.\u001b[0m\u001b[0mpath\u001b[0m\u001b[1;33m.\u001b[0m\u001b[0mexists\u001b[0m\u001b[1;33m(\u001b[0m\u001b[0mreal_dst\u001b[0m\u001b[1;33m)\u001b[0m\u001b[1;33m:\u001b[0m\u001b[1;33m\u001b[0m\u001b[1;33m\u001b[0m\u001b[0m\n\u001b[1;32m--> 823\u001b[1;33m             \u001b[1;32mraise\u001b[0m \u001b[0mError\u001b[0m\u001b[1;33m(\u001b[0m\u001b[1;34m\"Destination path '%s' already exists\"\u001b[0m \u001b[1;33m%\u001b[0m \u001b[0mreal_dst\u001b[0m\u001b[1;33m)\u001b[0m\u001b[1;33m\u001b[0m\u001b[1;33m\u001b[0m\u001b[0m\n\u001b[0m\u001b[0;32m    824\u001b[0m     \u001b[1;32mtry\u001b[0m\u001b[1;33m:\u001b[0m\u001b[1;33m\u001b[0m\u001b[1;33m\u001b[0m\u001b[0m\n\u001b[0;32m    825\u001b[0m         \u001b[0mos\u001b[0m\u001b[1;33m.\u001b[0m\u001b[0mrename\u001b[0m\u001b[1;33m(\u001b[0m\u001b[0msrc\u001b[0m\u001b[1;33m,\u001b[0m \u001b[0mreal_dst\u001b[0m\u001b[1;33m)\u001b[0m\u001b[1;33m\u001b[0m\u001b[1;33m\u001b[0m\u001b[0m\n",
      "\u001b[1;31mError\u001b[0m: Destination path 'C:\\Users\\Divyam\\Desktop\\Pneumonia Detection\\chest_xray\\train\\BACTERIAL PNEUMONIA\\person1000_bacteria_2931.jpeg' already exists"
     ]
    }
   ],
   "source": [
    "import os\n",
    "import shutil\n",
    "\n",
    "# define the input folder path\n",
    "input_folder = \"C:\\\\Users\\\\Divyam\\\\Desktop\\\\Pneumonia Detection\\\\chest_xray\\\\train\\\\PNEUMONIA\"\n",
    "\n",
    "# define the output folder paths\n",
    "bacteria_folder = \"C:\\\\Users\\\\Divyam\\\\Desktop\\\\Pneumonia Detection\\\\chest_xray\\\\train\\\\BACTERIAL PNEUMONIA\"\n",
    "virus_folder = \"C:\\\\Users\\\\Divyam\\\\Desktop\\\\Pneumonia Detection\\\\chest_xray\\\\train\\\\VIRAL PNEUMONIA\"\n",
    "\n",
    "# create the output folders if they don't exist\n",
    "os.makedirs(bacteria_folder, exist_ok=True)\n",
    "os.makedirs(virus_folder, exist_ok=True)\n",
    "\n",
    "# loop through all the files in the input folder\n",
    "for filename in os.listdir(input_folder):\n",
    "    # check if the filename contains \"bacteria\" or \"virus\"\n",
    "    if \"bacteria\" in filename.lower():\n",
    "        # move the file to the bacteria folder\n",
    "        shutil.move(os.path.join(input_folder, filename), bacteria_folder)\n",
    "    elif \"virus\" in filename.lower():\n",
    "        # move the file to the virus folder\n",
    "        shutil.move(os.path.join(input_folder, filename), virus_folder)\n"
   ]
  },
  {
   "cell_type": "code",
   "execution_count": 2,
   "id": "ff059051",
   "metadata": {},
   "outputs": [
    {
     "ename": "Error",
     "evalue": "Destination path 'C:\\Users\\Divyam\\Desktop\\Pneumonia Detection\\chest_xray\\test\\BACTERIAL PNEUMONIA\\person100_bacteria_475.jpeg' already exists",
     "output_type": "error",
     "traceback": [
      "\u001b[1;31m---------------------------------------------------------------------------\u001b[0m",
      "\u001b[1;31mError\u001b[0m                                     Traceback (most recent call last)",
      "\u001b[1;32m~\\AppData\\Local\\Temp\\ipykernel_20764\\1065128312.py\u001b[0m in \u001b[0;36m<module>\u001b[1;34m\u001b[0m\n\u001b[0;32m     18\u001b[0m     \u001b[1;32mif\u001b[0m \u001b[1;34m\"bacteria\"\u001b[0m \u001b[1;32min\u001b[0m \u001b[0mfilename\u001b[0m\u001b[1;33m.\u001b[0m\u001b[0mlower\u001b[0m\u001b[1;33m(\u001b[0m\u001b[1;33m)\u001b[0m\u001b[1;33m:\u001b[0m\u001b[1;33m\u001b[0m\u001b[1;33m\u001b[0m\u001b[0m\n\u001b[0;32m     19\u001b[0m         \u001b[1;31m# move the file to the bacteria folder\u001b[0m\u001b[1;33m\u001b[0m\u001b[1;33m\u001b[0m\u001b[0m\n\u001b[1;32m---> 20\u001b[1;33m         \u001b[0mshutil\u001b[0m\u001b[1;33m.\u001b[0m\u001b[0mmove\u001b[0m\u001b[1;33m(\u001b[0m\u001b[0mos\u001b[0m\u001b[1;33m.\u001b[0m\u001b[0mpath\u001b[0m\u001b[1;33m.\u001b[0m\u001b[0mjoin\u001b[0m\u001b[1;33m(\u001b[0m\u001b[0minput_folder\u001b[0m\u001b[1;33m,\u001b[0m \u001b[0mfilename\u001b[0m\u001b[1;33m)\u001b[0m\u001b[1;33m,\u001b[0m \u001b[0mbacteria_folder\u001b[0m\u001b[1;33m)\u001b[0m\u001b[1;33m\u001b[0m\u001b[1;33m\u001b[0m\u001b[0m\n\u001b[0m\u001b[0;32m     21\u001b[0m     \u001b[1;32melif\u001b[0m \u001b[1;34m\"virus\"\u001b[0m \u001b[1;32min\u001b[0m \u001b[0mfilename\u001b[0m\u001b[1;33m.\u001b[0m\u001b[0mlower\u001b[0m\u001b[1;33m(\u001b[0m\u001b[1;33m)\u001b[0m\u001b[1;33m:\u001b[0m\u001b[1;33m\u001b[0m\u001b[1;33m\u001b[0m\u001b[0m\n\u001b[0;32m     22\u001b[0m         \u001b[1;31m# move the file to the virus folder\u001b[0m\u001b[1;33m\u001b[0m\u001b[1;33m\u001b[0m\u001b[0m\n",
      "\u001b[1;32m~\\anaconda3\\lib\\shutil.py\u001b[0m in \u001b[0;36mmove\u001b[1;34m(src, dst, copy_function)\u001b[0m\n\u001b[0;32m    821\u001b[0m \u001b[1;33m\u001b[0m\u001b[0m\n\u001b[0;32m    822\u001b[0m         \u001b[1;32mif\u001b[0m \u001b[0mos\u001b[0m\u001b[1;33m.\u001b[0m\u001b[0mpath\u001b[0m\u001b[1;33m.\u001b[0m\u001b[0mexists\u001b[0m\u001b[1;33m(\u001b[0m\u001b[0mreal_dst\u001b[0m\u001b[1;33m)\u001b[0m\u001b[1;33m:\u001b[0m\u001b[1;33m\u001b[0m\u001b[1;33m\u001b[0m\u001b[0m\n\u001b[1;32m--> 823\u001b[1;33m             \u001b[1;32mraise\u001b[0m \u001b[0mError\u001b[0m\u001b[1;33m(\u001b[0m\u001b[1;34m\"Destination path '%s' already exists\"\u001b[0m \u001b[1;33m%\u001b[0m \u001b[0mreal_dst\u001b[0m\u001b[1;33m)\u001b[0m\u001b[1;33m\u001b[0m\u001b[1;33m\u001b[0m\u001b[0m\n\u001b[0m\u001b[0;32m    824\u001b[0m     \u001b[1;32mtry\u001b[0m\u001b[1;33m:\u001b[0m\u001b[1;33m\u001b[0m\u001b[1;33m\u001b[0m\u001b[0m\n\u001b[0;32m    825\u001b[0m         \u001b[0mos\u001b[0m\u001b[1;33m.\u001b[0m\u001b[0mrename\u001b[0m\u001b[1;33m(\u001b[0m\u001b[0msrc\u001b[0m\u001b[1;33m,\u001b[0m \u001b[0mreal_dst\u001b[0m\u001b[1;33m)\u001b[0m\u001b[1;33m\u001b[0m\u001b[1;33m\u001b[0m\u001b[0m\n",
      "\u001b[1;31mError\u001b[0m: Destination path 'C:\\Users\\Divyam\\Desktop\\Pneumonia Detection\\chest_xray\\test\\BACTERIAL PNEUMONIA\\person100_bacteria_475.jpeg' already exists"
     ]
    }
   ],
   "source": [
    "import os\n",
    "import shutil\n",
    "\n",
    "# define the input folder path\n",
    "input_folder = \"C:\\\\Users\\\\Divyam\\\\Desktop\\\\Pneumonia Detection\\\\chest_xray\\\\test\\\\PNEUMONIA\"\n",
    "\n",
    "# define the output folder paths\n",
    "bacteria_folder = \"C:\\\\Users\\\\Divyam\\\\Desktop\\\\Pneumonia Detection\\\\chest_xray\\\\test\\\\BACTERIAL PNEUMONIA\"\n",
    "virus_folder = \"C:\\\\Users\\\\Divyam\\\\Desktop\\\\Pneumonia Detection\\\\chest_xray\\\\test\\\\VIRAL PNEUMONIA\"\n",
    "\n",
    "# create the output folders if they don't exist\n",
    "os.makedirs(bacteria_folder, exist_ok=True)\n",
    "os.makedirs(virus_folder, exist_ok=True)\n",
    "\n",
    "# loop through all the files in the input folder\n",
    "for filename in os.listdir(input_folder):\n",
    "    # check if the filename contains \"bacteria\" or \"virus\"\n",
    "    if \"bacteria\" in filename.lower():\n",
    "        # move the file to the bacteria folder\n",
    "        shutil.move(os.path.join(input_folder, filename), bacteria_folder)\n",
    "    elif \"virus\" in filename.lower():\n",
    "        # move the file to the virus folder\n",
    "        shutil.move(os.path.join(input_folder, filename), virus_folder)\n"
   ]
  },
  {
   "cell_type": "code",
   "execution_count": 3,
   "id": "d02af7f7",
   "metadata": {},
   "outputs": [
    {
     "ename": "Error",
     "evalue": "Destination path 'C:\\Users\\Divyam\\Desktop\\Pneumonia Detection\\chest_xray\\val\\BACTERIAL PNEUMONIA\\person1946_bacteria_4874.jpeg' already exists",
     "output_type": "error",
     "traceback": [
      "\u001b[1;31m---------------------------------------------------------------------------\u001b[0m",
      "\u001b[1;31mError\u001b[0m                                     Traceback (most recent call last)",
      "\u001b[1;32m~\\AppData\\Local\\Temp\\ipykernel_20764\\1613243431.py\u001b[0m in \u001b[0;36m<module>\u001b[1;34m\u001b[0m\n\u001b[0;32m     18\u001b[0m     \u001b[1;32mif\u001b[0m \u001b[1;34m\"bacteria\"\u001b[0m \u001b[1;32min\u001b[0m \u001b[0mfilename\u001b[0m\u001b[1;33m.\u001b[0m\u001b[0mlower\u001b[0m\u001b[1;33m(\u001b[0m\u001b[1;33m)\u001b[0m\u001b[1;33m:\u001b[0m\u001b[1;33m\u001b[0m\u001b[1;33m\u001b[0m\u001b[0m\n\u001b[0;32m     19\u001b[0m         \u001b[1;31m# move the file to the bacteria folder\u001b[0m\u001b[1;33m\u001b[0m\u001b[1;33m\u001b[0m\u001b[0m\n\u001b[1;32m---> 20\u001b[1;33m         \u001b[0mshutil\u001b[0m\u001b[1;33m.\u001b[0m\u001b[0mmove\u001b[0m\u001b[1;33m(\u001b[0m\u001b[0mos\u001b[0m\u001b[1;33m.\u001b[0m\u001b[0mpath\u001b[0m\u001b[1;33m.\u001b[0m\u001b[0mjoin\u001b[0m\u001b[1;33m(\u001b[0m\u001b[0minput_folder\u001b[0m\u001b[1;33m,\u001b[0m \u001b[0mfilename\u001b[0m\u001b[1;33m)\u001b[0m\u001b[1;33m,\u001b[0m \u001b[0mbacteria_folder\u001b[0m\u001b[1;33m)\u001b[0m\u001b[1;33m\u001b[0m\u001b[1;33m\u001b[0m\u001b[0m\n\u001b[0m\u001b[0;32m     21\u001b[0m     \u001b[1;32melif\u001b[0m \u001b[1;34m\"virus\"\u001b[0m \u001b[1;32min\u001b[0m \u001b[0mfilename\u001b[0m\u001b[1;33m.\u001b[0m\u001b[0mlower\u001b[0m\u001b[1;33m(\u001b[0m\u001b[1;33m)\u001b[0m\u001b[1;33m:\u001b[0m\u001b[1;33m\u001b[0m\u001b[1;33m\u001b[0m\u001b[0m\n\u001b[0;32m     22\u001b[0m         \u001b[1;31m# move the file to the virus folder\u001b[0m\u001b[1;33m\u001b[0m\u001b[1;33m\u001b[0m\u001b[0m\n",
      "\u001b[1;32m~\\anaconda3\\lib\\shutil.py\u001b[0m in \u001b[0;36mmove\u001b[1;34m(src, dst, copy_function)\u001b[0m\n\u001b[0;32m    821\u001b[0m \u001b[1;33m\u001b[0m\u001b[0m\n\u001b[0;32m    822\u001b[0m         \u001b[1;32mif\u001b[0m \u001b[0mos\u001b[0m\u001b[1;33m.\u001b[0m\u001b[0mpath\u001b[0m\u001b[1;33m.\u001b[0m\u001b[0mexists\u001b[0m\u001b[1;33m(\u001b[0m\u001b[0mreal_dst\u001b[0m\u001b[1;33m)\u001b[0m\u001b[1;33m:\u001b[0m\u001b[1;33m\u001b[0m\u001b[1;33m\u001b[0m\u001b[0m\n\u001b[1;32m--> 823\u001b[1;33m             \u001b[1;32mraise\u001b[0m \u001b[0mError\u001b[0m\u001b[1;33m(\u001b[0m\u001b[1;34m\"Destination path '%s' already exists\"\u001b[0m \u001b[1;33m%\u001b[0m \u001b[0mreal_dst\u001b[0m\u001b[1;33m)\u001b[0m\u001b[1;33m\u001b[0m\u001b[1;33m\u001b[0m\u001b[0m\n\u001b[0m\u001b[0;32m    824\u001b[0m     \u001b[1;32mtry\u001b[0m\u001b[1;33m:\u001b[0m\u001b[1;33m\u001b[0m\u001b[1;33m\u001b[0m\u001b[0m\n\u001b[0;32m    825\u001b[0m         \u001b[0mos\u001b[0m\u001b[1;33m.\u001b[0m\u001b[0mrename\u001b[0m\u001b[1;33m(\u001b[0m\u001b[0msrc\u001b[0m\u001b[1;33m,\u001b[0m \u001b[0mreal_dst\u001b[0m\u001b[1;33m)\u001b[0m\u001b[1;33m\u001b[0m\u001b[1;33m\u001b[0m\u001b[0m\n",
      "\u001b[1;31mError\u001b[0m: Destination path 'C:\\Users\\Divyam\\Desktop\\Pneumonia Detection\\chest_xray\\val\\BACTERIAL PNEUMONIA\\person1946_bacteria_4874.jpeg' already exists"
     ]
    }
   ],
   "source": [
    "import os\n",
    "import shutil\n",
    "\n",
    "# define the input folder path\n",
    "input_folder = \"C:\\\\Users\\\\Divyam\\\\Desktop\\\\Pneumonia Detection\\\\chest_xray\\\\val\\\\PNEUMONIA\"\n",
    "\n",
    "# define the output folder paths\n",
    "bacteria_folder = \"C:\\\\Users\\\\Divyam\\\\Desktop\\\\Pneumonia Detection\\\\chest_xray\\\\val\\\\BACTERIAL PNEUMONIA\"\n",
    "virus_folder = \"C:\\\\Users\\\\Divyam\\\\Desktop\\\\Pneumonia Detection\\\\chest_xray\\\\val\\\\VIRAL PNEUMONIA\"\n",
    "\n",
    "# create the output folders if they don't exist\n",
    "os.makedirs(bacteria_folder, exist_ok=True)\n",
    "os.makedirs(virus_folder, exist_ok=True)\n",
    "\n",
    "# loop through all the files in the input folder\n",
    "for filename in os.listdir(input_folder):\n",
    "    # check if the filename contains \"bacteria\" or \"virus\"\n",
    "    if \"bacteria\" in filename.lower():\n",
    "        # move the file to the bacteria folder\n",
    "        shutil.move(os.path.join(input_folder, filename), bacteria_folder)\n",
    "    elif \"virus\" in filename.lower():\n",
    "        # move the file to the virus folder\n",
    "        shutil.move(os.path.join(input_folder, filename), virus_folder)\n"
   ]
  },
  {
   "cell_type": "markdown",
   "id": "b7642cd1",
   "metadata": {},
   "source": [
    "# TRAINING THE AI MODEL"
   ]
  },
  {
   "cell_type": "code",
   "execution_count": 72,
   "id": "760ce90e",
   "metadata": {
    "scrolled": false
   },
   "outputs": [],
   "source": [
    "import tensorflow as tf\n",
    "from tensorflow.keras.preprocessing.image import ImageDataGenerator\n",
    "from tensorflow.keras.applications.vgg16 import VGG16\n",
    "from tensorflow.keras.layers import Dense, Flatten, Dropout\n",
    "from tensorflow.keras.models import Model\n",
    "\n",
    "# Define the data generators for training and validation sets\n",
    "train_datagen = ImageDataGenerator(\n",
    "    rescale=1./255,\n",
    "    shear_range=0.2,\n",
    "    zoom_range=0.2,\n",
    "    horizontal_flip=True,\n",
    "    validation_split=0.2) # use 20% of the data for validation\n",
    "\n",
    "train_dir = 'C:\\\\Users\\\\Divyam\\\\Desktop\\\\Pneumonia Detection\\\\chest_xray\\\\train'\n",
    "\n",
    "num_classes = 3\n",
    "\n",
    "train_generator = train_datagen.flow_from_directory(\n",
    "    train_dir,\n",
    "    target_size=(224, 224),\n",
    "    batch_size=32,\n",
    "    class_mode='categorical',\n",
    "    subset='training', # use the training subset of the data\n",
    "    classes=['NORMAL', 'PNEUMONIA_BACTERIA', 'PNEUMONIA_VIRUS'])\n",
    "\n",
    "validation_generator = train_datagen.flow_from_directory(\n",
    "    train_dir,\n",
    "    target_size=(224, 224),\n",
    "    batch_size=32,\n",
    "    class_mode='categorical',\n",
    "    subset='validation', # use the validation subset of the data\n",
    "    classes=['NORMAL', 'PNEUMONIA_BACTERIA', 'PNEUMONIA_VIRUS'])\n",
    "\n",
    "# Load the pre-trained VGG16 model, excluding the top layer\n",
    "vgg_model = VGG16(include_top=False, weights='imagenet', input_shape=(224, 224, 3))\n",
    "\n",
    "# Freeze all the layers in the pre-trained model\n",
    "for layer in vgg_model.layers:\n",
    "    layer.trainable = False\n",
    "\n",
    "# Add custom top layers for our classification task\n",
    "x = Flatten()(vgg_model.output)\n",
    "x = Dense(512, activation='relu')(x)\n",
    "x = Dropout(0.5)(x)\n",
    "x = Dense(num_classes, activation='softmax')(x)\n",
    "\n",
    "# Combine the pre-trained model and our custom top layers\n",
    "model = Model(inputs=vgg_model.input, outputs=x)\n",
    "\n",
    "# Compile the model\n",
    "model.compile(loss='categorical_crossentropy',\n",
    "              optimizer=tf.keras.optimizers.Adam(),\n",
    "              metrics=['accuracy'])\n",
    "\n",
    "# Train the model\n",
    "history = model.fit(\n",
    "    train_generator,\n",
    "    steps_per_epoch=int(train_generator.samples/train_generator.batch_size),\n",
    "    epochs=10,\n",
    "    validation_data=validation_generator,\n",
    "    validation_steps=int(validation_generator.samples/validation_generator.batch_size))\n",
    "\n",
    "# Evaluate the model on the test set\n",
    "test_datagen = ImageDataGenerator(rescale=1./255)\n",
    "\n",
    "test_dir = 'C:\\\\Users\\\\Divyam\\\\Desktop\\\\Pneumonia Detection\\\\chest_xray\\\\test'\n",
    "\n",
    "test_generator = test_datagen.flow_from_directory(\n",
    "    test_dir,\n",
    "    target_size=(224, 224),\n",
    "    batch_size=32,\n",
    "    class_mode='categorical',\n",
    "    classes=['NORMAL', 'PNEUMONIA_BACTERIA', 'PNEUMONIA_VIRUS'])\n",
    "\n",
    "test_loss, test_acc = model.evaluate(test_generator, steps=test_generator.samples/test_generator.batch_size)\n",
    "print('Test accuracy:', test_acc)\n",
    "\n",
    "# Save the model for future use\n",
    "model.save('xray_classification_model.h5')\n"
   ]
  },
  {
   "cell_type": "markdown",
   "id": "cee5646a",
   "metadata": {},
   "source": [
    "# TEST"
   ]
  },
  {
   "cell_type": "code",
   "execution_count": null,
   "id": "48b7adfe",
   "metadata": {},
   "outputs": [],
   "source": [
    "Testing on a single image"
   ]
  },
  {
   "cell_type": "code",
   "execution_count": 53,
   "id": "2efb84bc",
   "metadata": {},
   "outputs": [
    {
     "name": "stdout",
     "output_type": "stream",
     "text": [
      "1/1 [==============================] - 0s 81ms/step\n",
      "The predicted class label for the image is: PNEUMONIA_BACTERIA\n"
     ]
    }
   ],
   "source": [
    "import cv2\n",
    "import numpy as np\n",
    "from tensorflow.keras.models import Sequential\n",
    "from tensorflow.keras.layers import Conv2D, MaxPooling2D, Flatten, Dense\n",
    "\n",
    "# Define a simple model\n",
    "model = Sequential([\n",
    "    Conv2D(32, (3, 3), activation='relu', input_shape=(224, 224, 3)),\n",
    "    MaxPooling2D((2, 2)),\n",
    "    Flatten(),\n",
    "    Dense(3, activation='softmax')\n",
    "])\n",
    "\n",
    "# Load the image\n",
    "#test.jpeg was bacterial\n",
    "img = cv2.imread('C:\\\\Users\\\\Divyam\\\\Desktop\\\\AI Project\\\\Test Dataset\\\\PNEUMONIA\\\\person32_virus_71.jpeg')\n",
    "\n",
    "# Check if img is None\n",
    "if img is None:\n",
    "    print('Failed to load image')\n",
    "else:\n",
    "    # Resize the image to 224x224 pixels\n",
    "    img = cv2.resize(img, (224, 224))\n",
    "\n",
    "    # Rescale the pixel values to [0, 1]\n",
    "    img = img / 255.0\n",
    "\n",
    "    # Add a batch dimension to the image\n",
    "    img = np.expand_dims(img, axis=0)\n",
    "\n",
    "    # Predict the class label using the trained model\n",
    "    predictions = model.predict(img)\n",
    "    predicted_label = np.argmax(predictions, axis=1)[0]\n",
    "\n",
    "    # Map the predicted label to the corresponding class name\n",
    "    class_names = ['NORMAL', 'PNEUMONIA_VIRUS', 'PNEUMONIA_BACTERIA']\n",
    "    predicted_class_name = class_names[predicted_label]\n",
    "\n",
    "    # Print the predicted class name\n",
    "    print('The predicted class label for the image is:', predicted_class_name)\n"
   ]
  },
  {
   "cell_type": "markdown",
   "id": "4601d57b",
   "metadata": {},
   "source": [
    "Testing on Multiple images and printing accuracy"
   ]
  },
  {
   "cell_type": "code",
   "execution_count": 74,
   "id": "ddef7c83",
   "metadata": {},
   "outputs": [
    {
     "ename": "AttributeError",
     "evalue": "'XRayClassificationModel' object has no attribute 'predict'",
     "output_type": "error",
     "traceback": [
      "\u001b[1;31m---------------------------------------------------------------------------\u001b[0m",
      "\u001b[1;31mAttributeError\u001b[0m                            Traceback (most recent call last)",
      "\u001b[1;32m~\\AppData\\Local\\Temp\\ipykernel_16664\\2141308727.py\u001b[0m in \u001b[0;36m<module>\u001b[1;34m\u001b[0m\n\u001b[0;32m     32\u001b[0m \u001b[1;33m\u001b[0m\u001b[0m\n\u001b[0;32m     33\u001b[0m     \u001b[1;31m# Predict the class label using the trained model\u001b[0m\u001b[1;33m\u001b[0m\u001b[1;33m\u001b[0m\u001b[0m\n\u001b[1;32m---> 34\u001b[1;33m     \u001b[0mpredictions\u001b[0m \u001b[1;33m=\u001b[0m \u001b[0mmodel\u001b[0m\u001b[1;33m.\u001b[0m\u001b[0mpredict\u001b[0m\u001b[1;33m(\u001b[0m\u001b[0mimg\u001b[0m\u001b[1;33m)\u001b[0m\u001b[1;33m\u001b[0m\u001b[1;33m\u001b[0m\u001b[0m\n\u001b[0m\u001b[0;32m     35\u001b[0m     \u001b[0mpredicted_label\u001b[0m \u001b[1;33m=\u001b[0m \u001b[0mnp\u001b[0m\u001b[1;33m.\u001b[0m\u001b[0margmax\u001b[0m\u001b[1;33m(\u001b[0m\u001b[0mpredictions\u001b[0m\u001b[1;33m,\u001b[0m \u001b[0maxis\u001b[0m\u001b[1;33m=\u001b[0m\u001b[1;36m1\u001b[0m\u001b[1;33m)\u001b[0m\u001b[1;33m[\u001b[0m\u001b[1;36m0\u001b[0m\u001b[1;33m]\u001b[0m\u001b[1;33m\u001b[0m\u001b[1;33m\u001b[0m\u001b[0m\n\u001b[0;32m     36\u001b[0m     \u001b[0mpredicted_class_name\u001b[0m \u001b[1;33m=\u001b[0m \u001b[0mclass_names\u001b[0m\u001b[1;33m[\u001b[0m\u001b[0mpredicted_label\u001b[0m\u001b[1;33m]\u001b[0m\u001b[1;33m\u001b[0m\u001b[1;33m\u001b[0m\u001b[0m\n",
      "\u001b[1;31mAttributeError\u001b[0m: 'XRayClassificationModel' object has no attribute 'predict'"
     ]
    },
    {
     "data": {
      "image/png": "[encoded data removed]",
      "text/plain": [
       "<Figure size 1500x600 with 10 Axes>"
      ]
     },
     "metadata": {},
     "output_type": "display_data"
    }
   ],
   "source": [
    "import os\n",
    "import cv2\n",
    "import numpy as np\n",
    "import matplotlib.pyplot as plt\n",
    "from tensorflow.keras.models import load_model\n",
    "\n",
    "# Define the class names\n",
    "class_names = ['NORMAL', 'PNEUMONIA_VIRUS', 'PNEUMONIA_BACTERIA']\n",
    "\n",
    "# Set up the figure for visualization\n",
    "fig, axs = plt.subplots(2, 5, figsize=(15, 6))\n",
    "axs = axs.ravel()\n",
    "\n",
    "# Get a list of 10 random image filenames from the test folder\n",
    "test_dir = 'C:\\\\Users\\\\Divyam\\\\Desktop\\\\Pneumonia Detection\\\\chest_xray'\n",
    "img_filenames = np.random.choice(os.listdir(test_dir), size=10, replace=False)\n",
    "\n",
    "# Iterate over the image filenames and visualize the results\n",
    "for i, img_filename in enumerate(img_filenames):\n",
    "    # Load the image\n",
    "    img_path = os.path.join(test_dir, img_filename)\n",
    "    img = cv2.imread(img_path)\n",
    "\n",
    "    # Resize the image to 224x224 pixels\n",
    "    img = cv2.resize(img, (224, 224))\n",
    "\n",
    "    # Rescale the pixel values to [0, 1]\n",
    "    img = img / 255.0\n",
    "\n",
    "    # Add a batch dimension to the image\n",
    "    img = np.expand_dims(img, axis=0)\n",
    "\n",
    "    # Predict the class label using the trained model\n",
    "    predictions = model.predict(img)\n",
    "    predicted_label = np.argmax(predictions, axis=1)[0]\n",
    "    predicted_class_name = class_names[predicted_label]\n",
    "\n",
    "    # Get the actual class name from the image filename\n",
    "    actual_class_name = img_filename.split('_')[1].upper()\n",
    "\n",
    "    # Determine the color for visualization\n",
    "    color = 'green' if predicted_class_name == actual_class_name else 'red'\n",
    "\n",
    "    # Visualize the image and the predicted class label\n",
    "    axs[i].imshow(cv2.cvtColor(cv2.imread(img_path), cv2.COLOR_BGR2RGB))\n",
    "    axs[i].set_title('Actual: {}\\nPredicted: {}'.format(actual_class_name, predicted_class_name), color=color)\n",
    "    axs[i].axis('off')\n",
    "\n",
    "plt.tight_layout()\n",
    "plt.show()\n"
   ]
  },
  {
   "cell_type": "code",
   "execution_count": null,
   "id": "50bc3447",
   "metadata": {},
   "outputs": [],
   "source": []
  },
  {
   "cell_type": "code",
   "execution_count": null,
   "id": "bba2e5d0",
   "metadata": {},
   "outputs": [],
   "source": []
  }
 ],
 "metadata": {
  "kernelspec": {
   "display_name": "Python 3 (ipykernel)",
   "language": "python",
   "name": "python3"
  },
  "language_info": {
   "codemirror_mode": {
    "name": "ipython",
    "version": 3
   },
   "file_extension": ".py",
   "mimetype": "text/x-python",
   "name": "python",
   "nbconvert_exporter": "python",
   "pygments_lexer": "ipython3",
   "version": "3.9.13"
  }
 },
 "nbformat": 4,
 "nbformat_minor": 5
}
